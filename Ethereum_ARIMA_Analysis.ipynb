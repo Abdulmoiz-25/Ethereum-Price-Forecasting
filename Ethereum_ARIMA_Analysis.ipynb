{
 "cells": [
  {
   "cell_type": "markdown",
   "metadata": {},
   "source": [
    "# Time Series Analysis of Ethereum (ETH/USDT) Using ARIMA\n",
    "Objective: Forecast Ethereum price trends using ARIMA on historical data."
   ]
  },
  {
   "cell_type": "code",
   "execution_count": null,
   "metadata": {},
   "outputs": [],
   "source": [
    "!pip install yfinance statsmodels pmdarima matplotlib seaborn"
   ]
  },
  {
   "cell_type": "code",
   "execution_count": null,
   "metadata": {},
   "outputs": [],
   "source": [
    "import yfinance as yf\n",
    "import pandas as pd\n",
    "import numpy as np\n",
    "import matplotlib.pyplot as plt\n",
    "import seaborn as sns\n",
    "import statsmodels.api as sm\n",
    "from statsmodels.tsa.stattools import adfuller\n",
    "from statsmodels.graphics.tsaplots import plot_acf, plot_pacf\n",
    "from statsmodels.tsa.arima.model import ARIMA\n",
    "from sklearn.metrics import mean_squared_error, mean_absolute_percentage_error\n",
    "import warnings\n",
    "warnings.filterwarnings('ignore')"
   ]
  },
  {
   "cell_type": "code",
   "execution_count": null,
   "metadata": {},
   "outputs": [],
   "source": [
    "# Load ETH data\n",
    "eth = yf.download('ETH-USD', start='2020-01-01', end='2024-12-31')\n",
    "eth = eth[['Open', 'High', 'Low', 'Close', 'Volume']].dropna()\n",
    "eth.index = pd.to_datetime(eth.index)\n",
    "eth = eth.asfreq('D').fillna(method='ffill')\n",
    "eth.head()"
   ]
  },
  {
   "cell_type": "code",
   "execution_count": null,
   "metadata": {},
   "outputs": [],
   "source": [
    "# EDA\n",
    "eth['Close'].plot(figsize=(14, 6), title='Ethereum Closing Price')\n",
    "plt.show()\n",
    "eth['Rolling_Mean'] = eth['Close'].rolling(window=30).mean()\n",
    "eth[['Close', 'Rolling_Mean']].plot(figsize=(14, 6), title='30-Day Rolling Mean')\n",
    "plt.show()\n",
    "eth['Volume'].plot(figsize=(14, 6), title='Ethereum Trading Volume')\n",
    "plt.show()\n",
    "eth.describe()"
   ]
  },
  {
   "cell_type": "code",
   "execution_count": null,
   "metadata": {},
   "outputs": [],
   "source": [
    "# Stationarity Test\n",
    "def adf_test(series):\n",
    "    result = adfuller(series)\n",
    "    print('ADF Statistic:', result[0])\n",
    "    print('p-value:', result[1])\n",
    "    if result[1] <= 0.05:\n",
    "        print(\"The data is stationary.\")\n",
    "    else:\n",
    "        print(\"The data is non-stationary.\")\n",
    "adf_test(eth['Close'])\n",
    "eth['Close_diff'] = eth['Close'].diff()\n",
    "adf_test(eth['Close_diff'].dropna())"
   ]
  },
  {
   "cell_type": "code",
   "execution_count": null,
   "metadata": {},
   "outputs": [],
   "source": [
    "# ACF and PACF\n",
    "plot_acf(eth['Close_diff'].dropna(), lags=30)\n",
    "plot_pacf(eth['Close_diff'].dropna(), lags=30)\n",
    "plt.show()"
   ]
  },
  {
   "cell_type": "code",
   "execution_count": null,
   "metadata": {},
   "outputs": [],
   "source": [
    "# Fit ARIMA\n",
    "model = ARIMA(eth['Close'], order=(1, 1, 1))\n",
    "model_fit = model.fit()\n",
    "print(model_fit.summary())"
   ]
  },
  {
   "cell_type": "code",
   "execution_count": null,
   "metadata": {},
   "outputs": [],
   "source": [
    "# Train-Test Split and Evaluation\n",
    "train = eth['Close'][:-30]\n",
    "test = eth['Close'][-30:]\n",
    "model = ARIMA(train, order=(1, 1, 1))\n",
    "model_fit = model.fit()\n",
    "forecast = model_fit.forecast(steps=30)\n",
    "rmse = np.sqrt(mean_squared_error(test, forecast))\n",
    "mape = mean_absolute_percentage_error(test, forecast) * 100\n",
    "print(f'RMSE: {rmse}, MAPE: {mape}%')\n",
    "plt.figure(figsize=(14, 6))\n",
    "plt.plot(test.index, test, label='Actual')\n",
    "plt.plot(test.index, forecast, label='Forecast')\n",
    "plt.legend()\n",
    "plt.title('Actual vs Forecast')\n",
    "plt.show()"
   ]
  },
  {
   "cell_type": "code",
   "execution_count": null,
   "metadata": {},
   "outputs": [],
   "source": [
    "# Forecast Next 30 Days\n",
    "final_model = ARIMA(eth['Close'], order=(1, 1, 1)).fit()\n",
    "forecast = final_model.get_forecast(steps=30)\n",
    "forecast_df = forecast.summary_frame()\n",
    "plt.figure(figsize=(14, 6))\n",
    "plt.plot(eth['Close'], label='Historical')\n",
    "plt.plot(forecast_df['mean'], label='Forecast', color='green')\n",
    "plt.fill_between(forecast_df.index, forecast_df['mean_ci_lower'], forecast_df['mean_ci_upper'], color='green', alpha=0.2)\n",
    "plt.legend()\n",
    "plt.title('Ethereum Price Forecast for Next 30 Days')\n",
    "plt.show()"
   ]
  }
 ],
 "metadata": {
  "kernelspec": {
   "display_name": "Python 3",
   "language": "python",
   "name": "python3"
  },
  "language_info": {
   "name": "python",
   "version": ""
  }
 },
 "nbformat": 4,
 "nbformat_minor": 5
}